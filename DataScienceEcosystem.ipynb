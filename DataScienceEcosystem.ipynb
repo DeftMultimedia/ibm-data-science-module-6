{
 "cells": [
  {
   "cell_type": "markdown",
   "id": "f153f61a-5a4b-4dbb-8eb3-b43325ef1837",
   "metadata": {
    "panel-layout": {
     "height": 94.9,
     "visible": true,
     "width": 100
    }
   },
   "source": [
    "# Data Science Tools and Ecosystem"
   ]
  },
  {
   "cell_type": "markdown",
   "id": "b74a6b32-a9c1-4bbe-8559-a34835664a6f",
   "metadata": {
    "panel-layout": {
     "height": 51.15,
     "visible": true,
     "width": 100
    }
   },
   "source": [
    "In this notebook, Data Science Tools and Ecosystem are summarized."
   ]
  },
  {
   "cell_type": "markdown",
   "id": "60c3c95f-e569-461e-8ed5-90cafba0e62e",
   "metadata": {},
   "source": [
    "**Objectives:**\n",
    "- List popular data science languages\n",
    "- List commonly used data science libraries\n",
    "- List three data science tools\n",
    "- Evaluate a parenthetical math expression\n",
    "- Find the number of hours in a number of minutes"
   ]
  },
  {
   "cell_type": "markdown",
   "id": "d97a8abf-1e72-430f-9f6f-d7fa27770e59",
   "metadata": {},
   "source": [
    "## Author\n",
    "Mike Shipley"
   ]
  },
  {
   "cell_type": "markdown",
   "id": "9f85c9c8-1b72-490c-a2aa-643a0fcadd0a",
   "metadata": {
    "panel-layout": {
     "height": 114.6,
     "visible": true,
     "width": 100
    }
   },
   "source": [
    "Some of the popular languages that Data Scientists use are:\n",
    "1. Python\n",
    "2. R\n",
    "3. MySQL"
   ]
  },
  {
   "cell_type": "markdown",
   "id": "0902fbe8-afeb-47c2-ad7c-070a7ff7ddbe",
   "metadata": {
    "panel-layout": {
     "height": 114.6,
     "visible": true,
     "width": 100
    }
   },
   "source": [
    "Some of the commonly used libraries used by Data Scientists include:\n",
    "1. Pandas\n",
    "2. NumPy\n",
    "3. SciPy"
   ]
  },
  {
   "cell_type": "markdown",
   "id": "7f81453c-c834-4daa-9160-72f860502001",
   "metadata": {
    "panel-layout": {
     "height": 119.75,
     "visible": true,
     "width": 100
    }
   },
   "source": [
    "| Data Science Tools |\n",
    "| --- |\n",
    "| RStudio |\n",
    "| Jupyter Notebook |\n",
    "| Anaconda |"
   ]
  },
  {
   "cell_type": "markdown",
   "id": "de47681f-3afd-4a80-bf46-89f0fed4ab8f",
   "metadata": {},
   "source": [
    "### Below are a few examples of evaluating arithmetic expressions in Python"
   ]
  },
  {
   "cell_type": "code",
   "execution_count": 19,
   "id": "7a370a40-08f6-473a-9c13-f9a85f2e0abf",
   "metadata": {},
   "outputs": [
    {
     "data": {
      "text/plain": [
       "17"
      ]
     },
     "execution_count": 19,
     "metadata": {},
     "output_type": "execute_result"
    }
   ],
   "source": [
    "# This is a simple arithmetic expression to multiply then add integers\n",
    "(3*4)+5"
   ]
  },
  {
   "cell_type": "code",
   "execution_count": 15,
   "id": "6218d302-4f74-48b3-bbba-48c521472cef",
   "metadata": {},
   "outputs": [
    {
     "data": {
      "text/plain": [
       "3.3333333333333335"
      ]
     },
     "execution_count": 15,
     "metadata": {},
     "output_type": "execute_result"
    }
   ],
   "source": [
    "200/60\n",
    "# This will convert 200 minutes to hours by dividing by 60"
   ]
  }
 ],
 "metadata": {
  "kernelspec": {
   "display_name": "Python [conda env:base] *",
   "language": "python",
   "name": "conda-base-py"
  },
  "language_info": {
   "codemirror_mode": {
    "name": "ipython",
    "version": 3
   },
   "file_extension": ".py",
   "mimetype": "text/x-python",
   "name": "python",
   "nbconvert_exporter": "python",
   "pygments_lexer": "ipython3",
   "version": "3.12.7"
  },
  "panel-cell-order": [
   "f153f61a-5a4b-4dbb-8eb3-b43325ef1837",
   "b74a6b32-a9c1-4bbe-8559-a34835664a6f",
   "9f85c9c8-1b72-490c-a2aa-643a0fcadd0a",
   "0902fbe8-afeb-47c2-ad7c-070a7ff7ddbe",
   "7f81453c-c834-4daa-9160-72f860502001"
  ]
 },
 "nbformat": 4,
 "nbformat_minor": 5
}
